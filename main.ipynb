{
 "cells": [
  {
   "cell_type": "code",
   "execution_count": 18,
   "metadata": {},
   "outputs": [],
   "source": [
    "from app.dotenv import base_dir, data_dir\n",
    "from app.model.model import  Model\n",
    "import os"
   ]
  },
  {
   "cell_type": "code",
   "execution_count": 19,
   "metadata": {},
   "outputs": [
    {
     "name": "stdout",
     "output_type": "stream",
     "text": [
      "dotenv params: {'PARAM1_value'}\n",
      "base_dir: c:\\Users\\yili0901\\Downloads\\code\\ivrit_ai\\app\n",
      "data_dir: c:\\Users\\yili0901\\Downloads\\code\\ivrit_ai\\data\n",
      "model: loaded Model\n"
     ]
    }
   ],
   "source": [
    "print('dotenv params:', {os.getenv('PARAM1')})\n",
    "print('base_dir:', base_dir)\n",
    "print('data_dir:', data_dir)\n",
    "\n",
    "model = Model()\n",
    "print('model:', model)"
   ]
  },
  {
   "cell_type": "code",
   "execution_count": 20,
   "metadata": {},
   "outputs": [],
   "source": [
    "from datasets import load_dataset\n",
    "\n",
    "# Login using e.g. `huggingface-cli login` to access this dataset\n",
    "\n",
    "# ds = load_dataset(\"ivrit-ai/audio-transcripts\")\n",
    "dataset = load_dataset('C:/Users/yili0901/Downloads/code/ivrit_ai/data/audio-transcripts',split=\"train\")"
   ]
  },
  {
   "cell_type": "code",
   "execution_count": 21,
   "metadata": {},
   "outputs": [
    {
     "name": "stdout",
     "output_type": "stream",
     "text": [
      "Dataset({\n",
      "    features: ['source', 'episode', 'uuid', 'text', 'attrs'],\n",
      "    num_rows: 2183042\n",
      "})\n",
      "AlHalal/2020.05.04 פרק 9 - די-מארס/0\n"
     ]
    }
   ],
   "source": [
    "print(dataset)\n",
    "print(dataset['uuid'][0])  # Print the first example in the training set"
   ]
  }
 ],
 "metadata": {
  "kernelspec": {
   "display_name": ".venv",
   "language": "python",
   "name": "python3"
  },
  "language_info": {
   "codemirror_mode": {
    "name": "ipython",
    "version": 3
   },
   "file_extension": ".py",
   "mimetype": "text/x-python",
   "name": "python",
   "nbconvert_exporter": "python",
   "pygments_lexer": "ipython3",
   "version": "3.11.6"
  }
 },
 "nbformat": 4,
 "nbformat_minor": 2
}
