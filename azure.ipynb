{
 "cells": [
  {
   "cell_type": "code",
   "execution_count": 2,
   "metadata": {},
   "outputs": [],
   "source": [
    "import os\n",
    "from openai import AzureOpenAI"
   ]
  },
  {
   "cell_type": "code",
   "execution_count": 24,
   "metadata": {},
   "outputs": [
    {
     "name": "stdout",
     "output_type": "stream",
     "text": [
      "gpt-4o-mini\n"
     ]
    }
   ],
   "source": [
    "endpoint = \"https://yishai-test1.openai.azure.com/\"  # Your endpoint\n",
    "key = \"a3b0ddd7b12f4e0a8147efce6335cb86\"  # Your API key \n",
    "\n",
    "# model_name = \"gpt-35-turbo-instruct\"#doesnt support chat only prompt\n",
    "# model_name = \"gpt-4o\"  # 0.005$ per 1000 input tokens 0.015$ per 1000 output tokens\n",
    "model_name = \"gpt-4o-mini\"# 0.00015 per 1000 input tokens 0.0006 per 1000 output tokens\n",
    "## model_name = \"gpt-4-turbo\" \n",
    "\n",
    "print(model_name)\n",
    "client = AzureOpenAI(azure_endpoint=endpoint,api_version=\"2024-02-01\",api_key=key)\n"
   ]
  },
  {
   "cell_type": "code",
   "execution_count": 23,
   "metadata": {},
   "outputs": [],
   "source": [
    "# import os\n",
    "# from openai import AzureOpenAI\n",
    "    \n",
    "\n",
    "    \n",
    "    \n",
    "# # Send a completion call to generate an answer\n",
    "# print('Sending a test completion job')\n",
    "# start_phrase = 'Write a tagline for an ice cream shop. '\n",
    "# response = client.completions.create(model=model_name, prompt=start_phrase, max_tokens=10)\n",
    "# print(start_phrase+response.choices[0].text)"
   ]
  },
  {
   "cell_type": "code",
   "execution_count": 20,
   "metadata": {},
   "outputs": [
    {
     "name": "stdout",
     "output_type": "stream",
     "text": [
      "Artificial Intelligence (AI) refers to the simulation of human intelligence processes by machines, particularly computer systems. These processes include learning (the acquisition of information and rules for using the information), reasoning (using rules to reach approximate or definite conclusions), and self-correction. Specific applications of AI include expert systems, speech recognition, and machine vision.\n",
      "\n",
      "AI can be generally classified into two types:\n",
      "\n",
      "1. **Narrow AI (Weak AI)**: This type of AI is designed and trained for a particular task. Virtual assistants like Siri, Alexa, or Google Assistant are a form of narrow AI. It is called \"narrow\" because it is specialized in performing a single or narrow set of tasks.\n",
      "\n",
      "2. **General AI (Strong AI)**: This type of AI can understand, learn, and apply intelligence across a wide variety of tasks, much like a human being. It is still largely theoretical and not yet achieved.\n",
      "\n",
      "AI techniques are constantly evolving and include various subfields such as:\n",
      "\n",
      "- **Machine Learning (ML)**: A method of data analysis that automates analytical model building. It is based on the idea that systems can learn from data, identify patterns, and make decisions with minimal human intervention.\n",
      "  \n",
      "- **Deep Learning**: A subset of ML that uses algorithms known as neural networks. These networks are designed to simulate the way humans think and learn.\n",
      "\n",
      "- **Natural Language Processing (NLP)**: A field focused on the interaction between computers and humans through natural language. NLP enables computers to understand, interpret, and respond to human language in a useful way.\n",
      "\n",
      "- **Computer Vision**: This area enables computers to interpret and make decisions based on visual input from the world.\n",
      "\n",
      "- **Robotics**: AI intersects with robotics in automating tasks that require precision, speed, and the capability to work in environments unfit for human workers.\n",
      "\n",
      "AI impacts various aspects of life including healthcare, finance, education, transportation, and entertainment, contributing to the improvement of processes and services, providing predictive insights, and enhancing user experiences through personalization.\n"
     ]
    }
   ],
   "source": [
    "completion = client.chat.completions.create(\n",
    "model=model_name,\n",
    "messages=[{\"role\": \"user\",\n",
    "    \"content\": \"What is AI?\",  # Your question can go here\n",
    "  },], \n",
    ")\n",
    "print(completion.choices[0].message.content)\n"
   ]
  }
 ],
 "metadata": {
  "kernelspec": {
   "display_name": ".venv",
   "language": "python",
   "name": "python3"
  },
  "language_info": {
   "codemirror_mode": {
    "name": "ipython",
    "version": 3
   },
   "file_extension": ".py",
   "mimetype": "text/x-python",
   "name": "python",
   "nbconvert_exporter": "python",
   "pygments_lexer": "ipython3",
   "version": "3.11.10"
  }
 },
 "nbformat": 4,
 "nbformat_minor": 2
}
